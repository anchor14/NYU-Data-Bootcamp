{
 "cells": [
  {
   "cell_type": "markdown",
   "metadata": {},
   "source": [
    "<h1>**Data Bootcamp Final Project**</h1>\n",
    "<h2>**Success rate of movies: released date and production cost**</h2>  \n",
    "**Name: Jaehurn Nam**  \n",
    "**Net ID: jn1402**  \n",
    "**N#: N10448338**"
   ]
  },
  {
   "cell_type": "markdown",
   "metadata": {},
   "source": [
    "***Description of the project: This project is figuring out the correlation   \n",
    "between the amount of revenue a movie creates and the month it was released in,   \n",
    "and the correlation betwen the amount of revenue a movie creates and the production cost.      \n",
    "For the size of the data, movies released from 1995-2016 are in the dataset.***"
   ]
  },
  {
   "cell_type": "markdown",
   "metadata": {},
   "source": [
    "The data used in this project is imported from 'the-numbers.com.' This site has the data of all movies with the information of their ['title','release_date','production cost', 'domestic gross', 'worldwide gross']. We will look at domestic gross and worldwide gross separately to avoid bias.\n",
    "Also, the site can create different report with certain standards. EX)Movie released within year(1995-2016), production cost(0-1 mil USD), and releaded month(January).\n",
    "With these inbuilt functions, we create the online table, import the table through read_html, play around with them to get more useful data, and then do the analysis/visulaization."
   ]
  },
  {
   "cell_type": "markdown",
   "metadata": {},
   "source": [
    "The reason that we import so many separate tables is for two reasons.\n",
    "1. If we import the whole dataset table, the table size is too large, that jupyter notebook lacks for minutes, and becomes time-inefficient.\n",
    "2. The ready-filtered tables have the same sizes (100 movies in each table). So, as we have the same size of data size for each table, there would be less bias."
   ]
  },
  {
   "cell_type": "code",
   "execution_count": 1,
   "metadata": {
    "collapsed": false
   },
   "outputs": [],
   "source": [
    "import pandas as pd\n",
    "import sys\n",
    "import numpy as np\n",
    "import matplotlib.pyplot as plt\n",
    "\n",
    "%matplotlib inline"
   ]
  },
  {
   "cell_type": "markdown",
   "metadata": {},
   "source": [
    "Below is importing the different tables (according to month)."
   ]
  },
  {
   "cell_type": "code",
   "execution_count": 2,
   "metadata": {
    "collapsed": false
   },
   "outputs": [],
   "source": [
    "new_table_1 = pd.read_html(\"http://www.the-numbers.com/movies/report/All/All/All/All/All/All/All/All/All/None/None/1995/2016/1/1/None/None?show-release-date=On&show-domestic-box-office=On&show-international-box-office=On&show-worldwide-box-office=On&view-order-by=domestic-box-office&view-order-direction=desc\")\n",
    "new_table_2 = pd.read_html('http://www.the-numbers.com/movies/report/All/All/All/All/All/All/All/All/All/None/None/1995/2016/2/2/None/None?show-release-date=On&show-domestic-box-office=On&show-international-box-office=On&show-worldwide-box-office=On&view-order-by=domestic-box-office&view-order-direction=desc')\n",
    "new_table_3 = pd.read_html(\"http://www.the-numbers.com/movies/report/All/All/All/All/All/All/All/All/All/None/None/1995/2016/3/3/None/None?show-release-date=On&show-domestic-box-office=On&show-international-box-office=On&show-worldwide-box-office=On&view-order-by=domestic-box-office&view-order-direction=desc\")\n",
    "new_table_4 = pd.read_html('http://www.the-numbers.com/movies/report/All/All/All/All/All/All/All/All/All/None/None/1995/2016/4/4/None/None?show-release-date=On&show-domestic-box-office=On&show-international-box-office=On&show-worldwide-box-office=On&view-order-by=domestic-box-office&view-order-direction=desc')\n",
    "new_table_5 = pd.read_html('http://www.the-numbers.com/movies/report/All/All/All/All/All/All/All/All/All/None/None/1995/2016/5/5/None/None?show-release-date=On&show-domestic-box-office=On&show-international-box-office=On&show-worldwide-box-office=On&view-order-by=domestic-box-office&view-order-direction=desc')\n",
    "new_table_6 = pd.read_html('http://www.the-numbers.com/movies/report/All/All/All/All/All/All/All/All/All/None/None/1995/2016/6/6/None/None?show-release-date=On&show-domestic-box-office=On&show-international-box-office=On&show-worldwide-box-office=On&view-order-by=domestic-box-office&view-order-direction=desc')\n",
    "new_table_7 = pd.read_html('http://www.the-numbers.com/movies/report/All/All/All/All/All/All/All/All/All/None/None/1995/2016/7/7/None/None?show-release-date=On&show-domestic-box-office=On&show-international-box-office=On&show-worldwide-box-office=On&view-order-by=domestic-box-office&view-order-direction=desc')\n",
    "new_table_8 = pd.read_html('http://www.the-numbers.com/movies/report/All/All/All/All/All/All/All/All/All/None/None/1995/2016/8/8/None/None?show-release-date=On&show-domestic-box-office=On&show-international-box-office=On&show-worldwide-box-office=On&view-order-by=domestic-box-office&view-order-direction=desc')\n",
    "new_table_9 = pd.read_html('http://www.the-numbers.com/movies/report/All/All/All/All/All/All/All/All/All/None/None/1995/2016/9/9/None/None?show-release-date=On&show-domestic-box-office=On&show-international-box-office=On&show-worldwide-box-office=On&view-order-by=domestic-box-office&view-order-direction=desc')\n",
    "new_table_10 = pd.read_html('http://www.the-numbers.com/movies/report/All/All/All/All/All/All/All/All/All/None/None/1995/2016/10/10/None/None?show-release-date=On&show-domestic-box-office=On&show-international-box-office=On&show-worldwide-box-office=On&view-order-by=domestic-box-office&view-order-direction=desc')\n",
    "new_table_11 = pd.read_html('http://www.the-numbers.com/movies/report/All/All/All/All/All/All/All/All/All/None/None/1995/2016/11/11/None/None?show-release-date=On&show-domestic-box-office=On&show-international-box-office=On&show-worldwide-box-office=On&view-order-by=domestic-box-office&view-order-direction=desc')\n",
    "new_table_12 = pd.read_html('http://www.the-numbers.com/movies/report/All/All/All/All/All/All/All/All/All/None/None/1995/2016/12/12/None/None?show-release-date=On&show-domestic-box-office=On&show-international-box-office=On&show-worldwide-box-office=On&view-order-by=domestic-box-office&view-order-direction=desc')"
   ]
  },
  {
   "cell_type": "code",
   "execution_count": 3,
   "metadata": {
    "collapsed": false
   },
   "outputs": [],
   "source": [
    "#Creating list with all the dataframes\n",
    "all_of_nt = [new_table_1[0], new_table_2[0], new_table_3[0],new_table_4[0], new_table_5[0],new_table_6[0],new_table_7[0],new_table_8[0],new_table_9[0],new_table_10[0],new_table_11[0],new_table_12[0]]\n"
   ]
  },
  {
   "cell_type": "code",
   "execution_count": 4,
   "metadata": {
    "collapsed": false
   },
   "outputs": [],
   "source": [
    "#Stripping unused parts of the table\n",
    "for nt in all_of_nt:\n",
    "    nt['DomesticBox Office'] = nt['DomesticBox Office'].str.strip('$')\n",
    "    nt['DomesticBox Office'] = nt['DomesticBox Office'].str.replace(',','')\n",
    "    nt['DomesticBox Office'] = nt['DomesticBox Office'].astype(int)\n",
    "    \n",
    "    nt['InternationalBox Office'] = nt['InternationalBox Office'].str.strip('$')\n",
    "    nt['InternationalBox Office'] = nt['InternationalBox Office'].str.replace(',','')\n",
    "    nt['InternationalBox Office'] = nt['InternationalBox Office'].astype(int)\n",
    "    \n",
    "    nt['WorldwideBox Office'] = nt['WorldwideBox Office'].str.strip('$')\n",
    "    nt['WorldwideBox Office'] = nt['WorldwideBox Office'].str.replace(',','')\n",
    "    nt['WorldwideBox Office'] = nt['WorldwideBox Office'].astype(int)\n",
    "    "
   ]
  },
  {
   "cell_type": "code",
   "execution_count": 5,
   "metadata": {
    "collapsed": false
   },
   "outputs": [
    {
     "data": {
      "text/html": [
       "<div>\n",
       "<table border=\"1\" class=\"dataframe\">\n",
       "  <thead>\n",
       "    <tr style=\"text-align: right;\">\n",
       "      <th></th>\n",
       "      <th>Jan</th>\n",
       "      <th>Feb</th>\n",
       "      <th>Mar</th>\n",
       "      <th>Apr</th>\n",
       "      <th>May</th>\n",
       "      <th>Jun</th>\n",
       "      <th>Jul</th>\n",
       "      <th>Aug</th>\n",
       "      <th>Sep</th>\n",
       "      <th>Oct</th>\n",
       "      <th>Nov</th>\n",
       "      <th>Dec</th>\n",
       "    </tr>\n",
       "  </thead>\n",
       "  <tbody>\n",
       "    <tr>\n",
       "      <th>Domestic Revenue</th>\n",
       "      <td>54280896.5</td>\n",
       "      <td>80164840.07</td>\n",
       "      <td>1.040786e+08</td>\n",
       "      <td>75980992.46</td>\n",
       "      <td>1.873748e+08</td>\n",
       "      <td>1.693207e+08</td>\n",
       "      <td>1.639871e+08</td>\n",
       "      <td>94970377.32</td>\n",
       "      <td>65018780.24</td>\n",
       "      <td>77962294.52</td>\n",
       "      <td>1.576045e+08</td>\n",
       "      <td>1.682312e+08</td>\n",
       "    </tr>\n",
       "  </tbody>\n",
       "</table>\n",
       "</div>"
      ],
      "text/plain": [
       "                         Jan          Feb           Mar          Apr  \\\n",
       "Domestic Revenue  54280896.5  80164840.07  1.040786e+08  75980992.46   \n",
       "\n",
       "                           May           Jun           Jul          Aug  \\\n",
       "Domestic Revenue  1.873748e+08  1.693207e+08  1.639871e+08  94970377.32   \n",
       "\n",
       "                          Sep          Oct           Nov           Dec  \n",
       "Domestic Revenue  65018780.24  77962294.52  1.576045e+08  1.682312e+08  "
      ]
     },
     "execution_count": 5,
     "metadata": {},
     "output_type": "execute_result"
    }
   ],
   "source": [
    "avg_dom_rev = []\n",
    "for nt2 in all_of_nt:\n",
    "    avg_dom_rev.append(nt2['DomesticBox Office'].mean())\n",
    "\n",
    "dom_rev = pd.DataFrame(avg_dom_rev)\n",
    "dom_rev = dom_rev.transpose()\n",
    "dom_rev.columns = ['Jan','Feb','Mar','Apr','May','Jun','Jul','Aug','Sep','Oct','Nov','Dec']\n",
    "dom_rev.rename(index={0: 'Domestic Revenue'})"
   ]
  },
  {
   "cell_type": "code",
   "execution_count": 6,
   "metadata": {
    "collapsed": false
   },
   "outputs": [
    {
     "data": {
      "text/plain": [
       "<matplotlib.axes._subplots.AxesSubplot at 0x116235a20>"
      ]
     },
     "execution_count": 6,
     "metadata": {},
     "output_type": "execute_result"
    },
    {
     "data": {
      "image/png": "[encoded data removed]",
      "text/plain": [
       "<matplotlib.figure.Figure at 0x1162312b0>"
      ]
     },
     "metadata": {},
     "output_type": "display_data"
    }
   ],
   "source": [
    "row = dom_rev.iloc[0]\n",
    "row.plot(kind = 'bar',figsize = (10,5), title = 'Domestic BoxOffice Revenue by month (in 100 million USD)')"
   ]
  },
  {
   "cell_type": "code",
   "execution_count": 7,
   "metadata": {
    "collapsed": false
   },
   "outputs": [
    {
     "data": {
      "text/html": [
       "<div>\n",
       "<table border=\"1\" class=\"dataframe\">\n",
       "  <thead>\n",
       "    <tr style=\"text-align: right;\">\n",
       "      <th></th>\n",
       "      <th>Jan</th>\n",
       "      <th>Feb</th>\n",
       "      <th>Mar</th>\n",
       "      <th>Apr</th>\n",
       "      <th>May</th>\n",
       "      <th>Jun</th>\n",
       "      <th>Jul</th>\n",
       "      <th>Aug</th>\n",
       "      <th>Sep</th>\n",
       "      <th>Oct</th>\n",
       "      <th>Nov</th>\n",
       "      <th>Dec</th>\n",
       "    </tr>\n",
       "  </thead>\n",
       "  <tbody>\n",
       "    <tr>\n",
       "      <th>International BoxOffice Revenue</th>\n",
       "      <td>42243312.24</td>\n",
       "      <td>73733818.44</td>\n",
       "      <td>1.087151e+08</td>\n",
       "      <td>83268876.47</td>\n",
       "      <td>2.937396e+08</td>\n",
       "      <td>218412599.4</td>\n",
       "      <td>231581004.5</td>\n",
       "      <td>86644519.38</td>\n",
       "      <td>64705610.41</td>\n",
       "      <td>85338348.24</td>\n",
       "      <td>2.296724e+08</td>\n",
       "      <td>2.245704e+08</td>\n",
       "    </tr>\n",
       "  </tbody>\n",
       "</table>\n",
       "</div>"
      ],
      "text/plain": [
       "                                         Jan          Feb           Mar  \\\n",
       "International BoxOffice Revenue  42243312.24  73733818.44  1.087151e+08   \n",
       "\n",
       "                                         Apr           May          Jun  \\\n",
       "International BoxOffice Revenue  83268876.47  2.937396e+08  218412599.4   \n",
       "\n",
       "                                         Jul          Aug          Sep  \\\n",
       "International BoxOffice Revenue  231581004.5  86644519.38  64705610.41   \n",
       "\n",
       "                                         Oct           Nov           Dec  \n",
       "International BoxOffice Revenue  85338348.24  2.296724e+08  2.245704e+08  "
      ]
     },
     "execution_count": 7,
     "metadata": {},
     "output_type": "execute_result"
    }
   ],
   "source": [
    "avg_int_rev = []\n",
    "for nt3 in all_of_nt:\n",
    "    avg_int_rev.append(nt3['InternationalBox Office'].mean())\n",
    "\n",
    "int_rev = pd.DataFrame(avg_int_rev)\n",
    "int_rev = int_rev.transpose()\n",
    "int_rev.columns = ['Jan','Feb','Mar','Apr','May','Jun','Jul','Aug','Sep','Oct','Nov','Dec']\n",
    "int_rev.rows = ['International Revenue']\n",
    "int_rev.rename(index={0: 'International BoxOffice Revenue'})"
   ]
  },
  {
   "cell_type": "code",
   "execution_count": 8,
   "metadata": {
    "collapsed": false
   },
   "outputs": [
    {
     "data": {
      "text/plain": [
       "<matplotlib.axes._subplots.AxesSubplot at 0x11603b7b8>"
      ]
     },
     "execution_count": 8,
     "metadata": {},
     "output_type": "execute_result"
    },
    {
     "data": {
      "image/png": "[encoded data removed]",
      "text/plain": [
       "<matplotlib.figure.Figure at 0x11894bb38>"
      ]
     },
     "metadata": {},
     "output_type": "display_data"
    }
   ],
   "source": [
    "row = int_rev.iloc[0]\n",
    "row.plot(kind = 'bar',figsize = (10,5), title = 'International BoxOffice Revenue by month (in 100 million USD)')"
   ]
  },
  {
   "cell_type": "code",
   "execution_count": 9,
   "metadata": {
    "collapsed": false
   },
   "outputs": [
    {
     "data": {
      "text/html": [
       "<div>\n",
       "<table border=\"1\" class=\"dataframe\">\n",
       "  <thead>\n",
       "    <tr style=\"text-align: right;\">\n",
       "      <th></th>\n",
       "      <th>Jan</th>\n",
       "      <th>Feb</th>\n",
       "      <th>Mar</th>\n",
       "      <th>Apr</th>\n",
       "      <th>May</th>\n",
       "      <th>Jun</th>\n",
       "      <th>Jul</th>\n",
       "      <th>Aug</th>\n",
       "      <th>Sep</th>\n",
       "      <th>Oct</th>\n",
       "      <th>Nov</th>\n",
       "      <th>Dec</th>\n",
       "    </tr>\n",
       "  </thead>\n",
       "  <tbody>\n",
       "    <tr>\n",
       "      <th>Worldwide BoxOffice Revenue</th>\n",
       "      <td>96524208.74</td>\n",
       "      <td>1.538987e+08</td>\n",
       "      <td>2.127937e+08</td>\n",
       "      <td>1.592499e+08</td>\n",
       "      <td>4.811145e+08</td>\n",
       "      <td>3.877333e+08</td>\n",
       "      <td>3.955681e+08</td>\n",
       "      <td>181614896.7</td>\n",
       "      <td>1.297244e+08</td>\n",
       "      <td>1.633006e+08</td>\n",
       "      <td>3.872769e+08</td>\n",
       "      <td>3.928016e+08</td>\n",
       "    </tr>\n",
       "  </tbody>\n",
       "</table>\n",
       "</div>"
      ],
      "text/plain": [
       "                                     Jan           Feb           Mar  \\\n",
       "Worldwide BoxOffice Revenue  96524208.74  1.538987e+08  2.127937e+08   \n",
       "\n",
       "                                      Apr           May           Jun  \\\n",
       "Worldwide BoxOffice Revenue  1.592499e+08  4.811145e+08  3.877333e+08   \n",
       "\n",
       "                                      Jul          Aug           Sep  \\\n",
       "Worldwide BoxOffice Revenue  3.955681e+08  181614896.7  1.297244e+08   \n",
       "\n",
       "                                      Oct           Nov           Dec  \n",
       "Worldwide BoxOffice Revenue  1.633006e+08  3.872769e+08  3.928016e+08  "
      ]
     },
     "execution_count": 9,
     "metadata": {},
     "output_type": "execute_result"
    }
   ],
   "source": [
    "avg_ww_rev = []\n",
    "for nt4 in all_of_nt:\n",
    "    avg_ww_rev.append(nt4['WorldwideBox Office'].mean())\n",
    "\n",
    "ww_rev = pd.DataFrame(avg_ww_rev)\n",
    "ww_rev = ww_rev.transpose()\n",
    "ww_rev.columns = ['Jan','Feb','Mar','Apr','May','Jun','Jul','Aug','Sep','Oct','Nov','Dec']\n",
    "ww_rev.rows = ['Worldwide Revenue']\n",
    "ww_rev.rename(index={0: 'Worldwide BoxOffice Revenue'})"
   ]
  },
  {
   "cell_type": "code",
   "execution_count": 10,
   "metadata": {
    "collapsed": false
   },
   "outputs": [
    {
     "data": {
      "text/plain": [
       "<matplotlib.axes._subplots.AxesSubplot at 0x1189a06a0>"
      ]
     },
     "execution_count": 10,
     "metadata": {},
     "output_type": "execute_result"
    },
    {
     "data": {
      "image/png": "[encoded data removed]",
      "text/plain": [
       "<matplotlib.figure.Figure at 0x11898c0f0>"
      ]
     },
     "metadata": {},
     "output_type": "display_data"
    }
   ],
   "source": [
    "row = int_rev.iloc[0]\n",
    "row.plot(kind = 'bar',figsize = (10,5), title = 'Worldw BoxOffice Revenue by month (in 100 million USD)')"
   ]
  },
  {
   "cell_type": "markdown",
   "metadata": {},
   "source": [
    "Now we import the different tables filtered by the different production costs. [0-1,1-10,11-50,51-120,120-] (mil USD)\n",
    "They are divided into 5 different categories."
   ]
  },
  {
   "cell_type": "code",
   "execution_count": 11,
   "metadata": {
    "collapsed": false
   },
   "outputs": [],
   "source": [
    "\n",
    "prod_table_1 = pd.read_html('http://www.the-numbers.com/movies/report/All/All/All/All/All/All/All/All/All/None/1/1995/2016/None/None/None/None?show-release-date=On&show-domestic-box-office=On&show-international-box-office=On&show-worldwide-box-office=On&view-order-by=domestic-box-office&view-order-direction=desc')\n",
    "prod_table_2 = pd.read_html('http://www.the-numbers.com/movies/report/All/All/All/All/All/All/All/All/All/1/10/1995/2016/None/None/None/None?show-release-date=On&view-order-by=domestic-box-office&view-order-direction=desc&show-domestic-box-office=On&show-international-box-office=On')\n",
    "prod_table_3 = pd.read_html('http://www.the-numbers.com/movies/report/All/All/All/All/All/All/All/All/All/10/50/1995/2016/None/None/None/None?show-release-date=On&view-order-by=domestic-box-office&view-order-direction=desc&show-domestic-box-office=On&show-international-box-office=On')\n",
    "prod_table_4 = pd.read_html('http://www.the-numbers.com/movies/report/All/All/All/All/All/All/All/All/All/50/120/1995/2016/None/None/None/None?show-release-date=On&view-order-by=domestic-box-office&view-order-direction=desc&show-domestic-box-office=On&show-international-box-office=On')\n",
    "prod_table_5 = pd.read_html('http://www.the-numbers.com/movies/report/All/All/All/All/All/All/All/All/All/120/None/1995/2016/None/None/None/None?show-release-date=On&view-order-by=domestic-box-office&view-order-direction=desc&show-domestic-box-office=On&show-international-box-office=On')"
   ]
  },
  {
   "cell_type": "code",
   "execution_count": 12,
   "metadata": {
    "collapsed": false
   },
   "outputs": [],
   "source": [
    "#Making list with all the dataframes.\n",
    "prod = [prod_table_1[0], prod_table_2[0], prod_table_3[0], prod_table_4[0], prod_table_5[0]]"
   ]
  },
  {
   "cell_type": "code",
   "execution_count": 13,
   "metadata": {
    "collapsed": false
   },
   "outputs": [],
   "source": [
    "for tab in prod:\n",
    "    tab['DomesticBox Office'] = tab['DomesticBox Office'].str.strip('$')\n",
    "    tab['DomesticBox Office'] = tab['DomesticBox Office'].str.replace(',','')\n",
    "    tab['DomesticBox Office'] = tab['DomesticBox Office'].astype(int)\n",
    "    \n",
    "    tab['InternationalBox Office'] = tab['InternationalBox Office'].str.strip('$')\n",
    "    tab['InternationalBox Office'] = tab['InternationalBox Office'].str.replace(',','')\n",
    "    tab['InternationalBox Office'] = tab['InternationalBox Office'].astype(int)"
   ]
  },
  {
   "cell_type": "code",
   "execution_count": 14,
   "metadata": {
    "collapsed": false
   },
   "outputs": [
    {
     "data": {
      "text/html": [
       "<div>\n",
       "<table border=\"1\" class=\"dataframe\">\n",
       "  <thead>\n",
       "    <tr style=\"text-align: right;\">\n",
       "      <th></th>\n",
       "      <th>0-1</th>\n",
       "      <th>1-10</th>\n",
       "      <th>11-50</th>\n",
       "      <th>51-120</th>\n",
       "      <th>120-</th>\n",
       "    </tr>\n",
       "  </thead>\n",
       "  <tbody>\n",
       "    <tr>\n",
       "      <th>Domestic Revenue</th>\n",
       "      <td>55003526.72</td>\n",
       "      <td>53659767.65</td>\n",
       "      <td>1.487027e+08</td>\n",
       "      <td>2.235012e+08</td>\n",
       "      <td>3.082396e+08</td>\n",
       "    </tr>\n",
       "  </tbody>\n",
       "</table>\n",
       "</div>"
      ],
      "text/plain": [
       "                          0-1         1-10         11-50        51-120  \\\n",
       "Domestic Revenue  55003526.72  53659767.65  1.487027e+08  2.235012e+08   \n",
       "\n",
       "                          120-  \n",
       "Domestic Revenue  3.082396e+08  "
      ]
     },
     "execution_count": 14,
     "metadata": {},
     "output_type": "execute_result"
    }
   ],
   "source": [
    "#Making the right format of dataframe.\n",
    "avg_dom_rev2 = []\n",
    "for tab2 in prod:\n",
    "    avg_dom_rev2.append(tab2['DomesticBox Office'].mean())\n",
    "    \n",
    "dom_rev2 = pd.DataFrame(avg_dom_rev2)\n",
    "dom_rev2 = dom_rev2.transpose()\n",
    "dom_rev2.columns = ['0-1', '1-10', '11-50', '51-120','120-']\n",
    "dom_rev2.rename(index={0: 'Domestic Revenue'})"
   ]
  },
  {
   "cell_type": "code",
   "execution_count": 15,
   "metadata": {
    "collapsed": false
   },
   "outputs": [
    {
     "data": {
      "text/plain": [
       "<matplotlib.axes._subplots.AxesSubplot at 0x116373780>"
      ]
     },
     "execution_count": 15,
     "metadata": {},
     "output_type": "execute_result"
    },
    {
     "data": {
      "image/png": "[encoded data removed]",
      "text/plain": [
       "<matplotlib.figure.Figure at 0x115ed7ac8>"
      ]
     },
     "metadata": {},
     "output_type": "display_data"
    }
   ],
   "source": [
    "row = dom_rev2.iloc[0]\n",
    "row.plot(kind = 'bar',figsize = (12,5), title = 'Domestic BoxOffice Revenue by production cost (x axis in 1 mil USD, y axis in 100 million USD)')"
   ]
  },
  {
   "cell_type": "code",
   "execution_count": 16,
   "metadata": {
    "collapsed": false
   },
   "outputs": [
    {
     "data": {
      "text/html": [
       "<div>\n",
       "<table border=\"1\" class=\"dataframe\">\n",
       "  <thead>\n",
       "    <tr style=\"text-align: right;\">\n",
       "      <th></th>\n",
       "      <th>0-1</th>\n",
       "      <th>1-10</th>\n",
       "      <th>11-50</th>\n",
       "      <th>51-120</th>\n",
       "      <th>120-</th>\n",
       "    </tr>\n",
       "  </thead>\n",
       "  <tbody>\n",
       "    <tr>\n",
       "      <th>International Revenue</th>\n",
       "      <td>34347373.61</td>\n",
       "      <td>35380373.7</td>\n",
       "      <td>1.181624e+08</td>\n",
       "      <td>2.860785e+08</td>\n",
       "      <td>5.325057e+08</td>\n",
       "    </tr>\n",
       "  </tbody>\n",
       "</table>\n",
       "</div>"
      ],
      "text/plain": [
       "                               0-1        1-10         11-50        51-120  \\\n",
       "International Revenue  34347373.61  35380373.7  1.181624e+08  2.860785e+08   \n",
       "\n",
       "                               120-  \n",
       "International Revenue  5.325057e+08  "
      ]
     },
     "execution_count": 16,
     "metadata": {},
     "output_type": "execute_result"
    }
   ],
   "source": [
    "#Making the right form of dataframe.\n",
    "\n",
    "avg_int_rev2 = []\n",
    "for tab3 in prod:\n",
    "    avg_int_rev2.append(tab3['InternationalBox Office'].mean())\n",
    "    \n",
    "int_rev2 = pd.DataFrame(avg_int_rev2)\n",
    "int_rev2 = int_rev2.transpose()\n",
    "int_rev2.columns = ['0-1', '1-10', '11-50', '51-120','120-']\n",
    "int_rev2.rename(index={0: 'International Revenue'})"
   ]
  },
  {
   "cell_type": "code",
   "execution_count": 17,
   "metadata": {
    "collapsed": false
   },
   "outputs": [
    {
     "data": {
      "text/plain": [
       "<matplotlib.axes._subplots.AxesSubplot at 0x116376b38>"
      ]
     },
     "execution_count": 17,
     "metadata": {},
     "output_type": "execute_result"
    },
    {
     "data": {
      "image/png": "[encoded data removed]",
      "text/plain": [
       "<matplotlib.figure.Figure at 0x1162dd5f8>"
      ]
     },
     "metadata": {},
     "output_type": "display_data"
    }
   ],
   "source": [
    "row = int_rev2.iloc[0]\n",
    "row.plot(kind = 'bar',figsize = (12,5), title = 'International BoxOffice Revenue by production cost (x axis in 1 mil USD, y axis in 100 million USD)')"
   ]
  },
  {
   "cell_type": "markdown",
   "metadata": {},
   "source": [
    "# Short Concluding Remarks"
   ]
  },
  {
   "cell_type": "markdown",
   "metadata": {},
   "source": [
    "**Correlation between released month and BoxOffice revenue**\n",
    "For Domestic BoxOffice: May and December had the most revenue followed by June, July and November.\n",
    "For International BoxOffice: May had the most revenue, outstanding over any other month.\n",
    "For Worldwide BoxOffice: May was the best month to release a movie. July was second, followed by November. January and September, generally the beginning of the semester turned out to be the worst time to release a movie."
   ]
  },
  {
   "cell_type": "markdown",
   "metadata": {},
   "source": [
    "**Correlation between production cost and BoxOffice Revenue**\n",
    "For Domestic BoxOffice: There was a decrease from the first index to the second index. A big jump from the second to third index. And then, there is a gradual growth. But if we look at the actual index, the revenue doesn’t increase as substantially as the production costs increase.\n",
    "For International BoxOffice: There is a slight increase from first index to second index. And compared to Domestic BoxOffice, the increase of revenue over the last three indexes are larger."
   ]
  },
  {
   "cell_type": "markdown",
   "metadata": {
    "collapsed": true
   },
   "source": [
    "# Thank you!"
   ]
  }
 ],
 "metadata": {
  "anaconda-cloud": {},
  "kernelspec": {
   "display_name": "Python [Root]",
   "language": "python",
   "name": "Python [Root]"
  },
  "language_info": {
   "codemirror_mode": {
    "name": "ipython",
    "version": 3
   },
   "file_extension": ".py",
   "mimetype": "text/x-python",
   "name": "python",
   "nbconvert_exporter": "python",
   "pygments_lexer": "ipython3",
   "version": "3.5.2"
  }
 },
 "nbformat": 4,
 "nbformat_minor": 0
}
